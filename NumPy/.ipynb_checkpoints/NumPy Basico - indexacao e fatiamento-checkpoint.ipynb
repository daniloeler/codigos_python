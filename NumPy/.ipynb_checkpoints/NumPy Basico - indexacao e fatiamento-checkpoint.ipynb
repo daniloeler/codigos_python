{
 "cells": [
  {
   "cell_type": "code",
   "execution_count": 1,
   "metadata": {},
   "outputs": [],
   "source": [
    "import numpy as np"
   ]
  },
  {
   "cell_type": "code",
   "execution_count": 47,
   "metadata": {},
   "outputs": [
    {
     "name": "stdout",
     "output_type": "stream",
     "text": [
      "[0 1 2 3 4 5 6 7 8 9]\n",
      "5\n",
      "[5 6 7]\n",
      "[5 6 7 8]\n",
      "[3 4 5 6 7 8 9]\n",
      "[0 1 2]\n",
      "[0 1 2 3 4 5 6 7 8 9]\n",
      "[ 0  1  2  3  4 12 12 12  8  9]\n",
      "[ 0  1  2  3  4 55 55 55 55 55]\n",
      "[77 77 77 77 77 55 55 55 55 55]\n",
      "[3 4 5 6 7]\n",
      "[   3 9999    5    6    7]\n",
      "[   0    1    2    3 9999    5    6    7    8    9]\n",
      "[777 777 777 777 777]\n",
      "[  0   1   2 777 777 777 777 777   8   9]\n",
      "\n",
      "Utilizando cópia\n",
      "[3 4 5 6 7]\n",
      "[456 456 456 456 456]\n",
      "[0 1 2 3 4 5 6 7 8 9]\n"
     ]
    }
   ],
   "source": [
    "arr = np.arange(10)\n",
    "print(arr)\n",
    "print(arr[5])\n",
    "print(arr[5:8]) #último não incluso\n",
    "print(arr[5:9])\n",
    "print(arr[3:]) #até o último\n",
    "print(arr[:3]) #a partir do primeiro\n",
    "print(arr[:]) #todos\n",
    "\n",
    "#propagação dos valores no intervalo (não inclui o ultimo)\n",
    "arr[5:8] = 12 \n",
    "print(arr)\n",
    "arr[5:] = 55 \n",
    "print(arr)\n",
    "arr[:5] = 77\n",
    "print(arr)\n",
    "\n",
    "#copia do fatiamento (slice)\n",
    "arr = np.arange(10)\n",
    "arrS = arr[3:8]\n",
    "print(arrS)\n",
    "\n",
    "###########            Atencão!!!\n",
    "#Alterações na cópia do Slice alteram o original\n",
    "#isso facilita trabalhor com arrays muito grandes sem perder desempenho\n",
    "arrS[1] = 9999\n",
    "print(arrS)\n",
    "print(arr)\n",
    "arrS[:] = 777\n",
    "print(arrS)\n",
    "print(arr)\n",
    "\n",
    "#pode-se fazer uma cópia\n",
    "print('\\nUtilizando cópia')\n",
    "arr = np.arange(10)\n",
    "arrS = arr[3:8].copy()\n",
    "print(arrS)\n",
    "arrS[:] = 456\n",
    "print(arrS)\n",
    "print(arr)\n"
   ]
  },
  {
   "cell_type": "code",
   "execution_count": 54,
   "metadata": {},
   "outputs": [
    {
     "name": "stdout",
     "output_type": "stream",
     "text": [
      "[[1 2 3]\n",
      " [4 5 6]\n",
      " [7 8 9]]\n",
      "Linha 0:  [1 2 3]\n",
      "Linha 1:  [4 5 6]\n",
      "Linha 2:  [7 8 9]\n",
      "Coluna 0: [1 4 7]\n",
      "Coluna 1: [2 5 8]\n",
      "Coluna 2: [3 6 9]\n",
      "Elmento [1][2]:  6\n",
      "Elmento [1,2] :  6\n"
     ]
    }
   ],
   "source": [
    "#arrays com mais dimensoes\n",
    "arr2d = np.array([[1, 2, 3],[4, 5, 6],[7, 8, 9]])\n",
    "print(arr2d)\n",
    "print('Linha 0: ', arr2d[0])\n",
    "print('Linha 1: ', arr2d[1])\n",
    "print('Linha 2: ', arr2d[2])\n",
    "print('Coluna 0:', arr2d[:,0])\n",
    "print('Coluna 1:', arr2d[:,1])\n",
    "print('Coluna 2:', arr2d[:,2])\n",
    "print('Elmento [1][2]: ', arr2d[1][2])\n",
    "print('Elmento [1,2] : ', arr2d[1,2])"
   ]
  },
  {
   "cell_type": "code",
   "execution_count": 79,
   "metadata": {},
   "outputs": [
    {
     "name": "stdout",
     "output_type": "stream",
     "text": [
      "[[[ 1  2  3]\n",
      "  [ 4  5  6]]\n",
      "\n",
      " [[ 7  8  9]\n",
      "  [10 11 12]]]\n",
      "num dimensoes:  3\n",
      "shape:  (2, 2, 3)\n",
      "Linha 0:  [[1 2 3]\n",
      " [4 5 6]]\n",
      "Linha 1:  [[ 7  8  9]\n",
      " [10 11 12]]\n",
      "Elemento [0,0]:  [1 2 3]\n",
      "Elemento [0,1]:  [4 5 6]\n",
      "Elemento [1,0]:  [7 8 9]\n",
      "Elemento [1,1]:  [10 11 12]\n",
      "Elemento [1,1,1]:  11\n",
      "[[[42 42 42]\n",
      "  [42 42 42]]\n",
      "\n",
      " [[ 7  8  9]\n",
      "  [10 11 12]]]\n",
      "[[[42 42 42]\n",
      "  [42 42 42]]\n",
      "\n",
      " [[ 7  8  9]\n",
      "  [55 55 55]]] \n",
      "\n",
      "[[ 7  8  9]\n",
      " [55 55 55]] \n",
      "\n",
      "[7 8 9] \n",
      "\n",
      "[7 8 9] \n",
      "\n"
     ]
    }
   ],
   "source": [
    "#3 dimensões - imagine que cada posição de uma matriz possui um vetor com 3 elementos\n",
    "arr3d = np.array( [ [ [1, 2, 3] , [4, 5, 6] ], [ [7, 8, 9] , [10, 11, 12] ] ])\n",
    "print(arr3d)\n",
    "print('num dimensoes: ',arr3d.ndim)\n",
    "print('shape: ',arr3d.shape)\n",
    "\n",
    "print('Linha 0: ', arr3d[0])\n",
    "print('Linha 1: ', arr3d[1])\n",
    "print('Elemento [0,0]: ', arr3d[0,0])\n",
    "print('Elemento [0,1]: ', arr3d[0,1])\n",
    "print('Elemento [1,0]: ', arr3d[1,0])\n",
    "print('Elemento [1,1]: ', arr3d[1,1])\n",
    "print('Elemento [1,1,1]: ', arr3d[1,1,1])\n",
    "\n",
    "arr3d[0] = 42\n",
    "print(arr3d)\n",
    "arr3d[1,1] = 55\n",
    "print(arr3d,'\\n')\n",
    "\n",
    "x = arr3d[1]\n",
    "print(x,'\\n')\n",
    "x = arr3d[1,0]\n",
    "print(x,'\\n')\n",
    "x = arr3d[1]\n",
    "print(x[0],'\\n')"
   ]
  },
  {
   "cell_type": "code",
   "execution_count": 87,
   "metadata": {},
   "outputs": [
    {
     "name": "stdout",
     "output_type": "stream",
     "text": [
      "[[1 2 3]\n",
      " [4 5 6]\n",
      " [7 8 9]] \n",
      "\n",
      "[[1 2 3]\n",
      " [4 5 6]] \n",
      "\n",
      "[2 5] \n",
      "\n",
      "[[2 3]\n",
      " [5 6]] \n",
      "\n",
      "[[2 3]\n",
      " [5 6]\n",
      " [8 9]] \n",
      "\n",
      "[[ 1 55 55]\n",
      " [ 4 55 55]\n",
      " [ 7 55 55]]\n"
     ]
    }
   ],
   "source": [
    "#fatiando arrays com mais dimensoes\n",
    "arr2d = np.array([[1, 2, 3],[4, 5, 6],[7, 8, 9]])\n",
    "print(arr2d,'\\n')\n",
    "print(arr2d[:2],'\\n')\n",
    "print(arr2d[:2,1],'\\n')\n",
    "print(arr2d[:2,1:],'\\n')\n",
    "print(arr2d[:,1:],'\\n')\n",
    "\n",
    "#atribuir para a fatia altera toda a seleção\n",
    "arr2d[:,1:] = 55\n",
    "print(arr2d)"
   ]
  },
  {
   "cell_type": "code",
   "execution_count": 112,
   "metadata": {},
   "outputs": [
    {
     "name": "stdout",
     "output_type": "stream",
     "text": [
      "['Bob' 'Joe' 'Will' 'Bob' 'Will' 'Joe' 'Joe']\n",
      "[ True False False  True False False False]\n",
      "[[ -736.06817088  1778.16037327  1630.14712084  -889.03585026]\n",
      " [  -97.90413264   994.33522551  -363.84345091   452.40374632]\n",
      " [ 1976.54296469   493.55141053   -65.97017015   992.32329023]\n",
      " [  669.31757036 -1793.87668933   -20.45275422 -1365.55781473]\n",
      " [  633.04106231   314.16206163   890.44644331    68.96986596]\n",
      " [  223.88937786  1581.46821214   636.01116656  -203.24502964]\n",
      " [  216.07100962 -1363.64419338  1829.17150057  -237.80374832]]\n",
      "\n",
      "[[ -736.06817088  1778.16037327  1630.14712084  -889.03585026]\n",
      " [  669.31757036 -1793.87668933   -20.45275422 -1365.55781473]]\n",
      "\n",
      "[[ -736.06817088  1778.16037327]\n",
      " [  669.31757036 -1793.87668933]]\n",
      "[[ 1778.16037327  1630.14712084  -889.03585026]\n",
      " [-1793.87668933   -20.45275422 -1365.55781473]]\n",
      "[1630.14712084  -20.45275422]\n",
      "\n",
      "[ True False False  True False False False] \n",
      "\n",
      "[False  True  True False  True  True  True] \n",
      "\n",
      "[[ -736.06817088  1778.16037327  1630.14712084  -889.03585026]\n",
      " [  669.31757036 -1793.87668933   -20.45275422 -1365.55781473]] \n",
      "\n",
      "[[  -97.90413264   994.33522551  -363.84345091   452.40374632]\n",
      " [ 1976.54296469   493.55141053   -65.97017015   992.32329023]\n",
      " [  633.04106231   314.16206163   890.44644331    68.96986596]\n",
      " [  223.88937786  1581.46821214   636.01116656  -203.24502964]\n",
      " [  216.07100962 -1363.64419338  1829.17150057  -237.80374832]] \n",
      "\n",
      "[ True False  True  True  True False False] \n",
      "\n",
      "[[ -736.06817088  1778.16037327  1630.14712084  -889.03585026]\n",
      " [ 1976.54296469   493.55141053   -65.97017015   992.32329023]\n",
      " [  669.31757036 -1793.87668933   -20.45275422 -1365.55781473]\n",
      " [  633.04106231   314.16206163   890.44644331    68.96986596]] \n",
      "\n",
      "[[    0.             0.             0.             0.        ]\n",
      " [  -97.90413264   994.33522551  -363.84345091   452.40374632]\n",
      " [    0.             0.             0.             0.        ]\n",
      " [    0.             0.             0.             0.        ]\n",
      " [    0.             0.             0.             0.        ]\n",
      " [  223.88937786  1581.46821214   636.01116656  -203.24502964]\n",
      " [  216.07100962 -1363.64419338  1829.17150057  -237.80374832]] \n",
      "\n"
     ]
    }
   ],
   "source": [
    "#indexação booleada\n",
    "nomes = np.array(['Bob', 'Joe', 'Will', 'Bob', 'Will', 'Joe', 'Joe'])\n",
    "print(nomes)\n",
    "print(nomes == 'Bob') #marca com True as posições em que a expressão booleana é verdadeira, caso contrário, marca com False\n",
    "\n",
    "dados = np.random.randn(7,4) * 1000   #7 linhas e 4 colunas -- multipliquei por 1000 para nao exibir em notação científica\n",
    "print(dados)\n",
    "\n",
    "#imagine que cada linha de 'dados' esta associada com uma transação para a pessoa indicada em 'nomes'\n",
    "print()\n",
    "print(dados[nomes == 'Bob']) #o array booleano pode ser utilizado como indexador - somente quando for True\n",
    "\n",
    "print()\n",
    "print(dados[nomes == 'Bob', :2]) #é possível selecionar algumas colunas\n",
    "print(dados[nomes == 'Bob', 1:]) #é possível selecionar algumas colunas\n",
    "print(dados[nomes == 'Bob', 2]) #é possível selecionar algumas colunas\n",
    "\n",
    "#para inverter a seleção podemos utilizar o ~\n",
    "print()\n",
    "mask = nomes == 'Bob'\n",
    "print(mask,'\\n')\n",
    "print(~mask,'\\n')\n",
    "print(dados[mask],'\\n')\n",
    "print(dados[~mask],'\\n')\n",
    "\n",
    "#combinando condições -- com array devemos utilizar | (para or) e & para (and)\n",
    "mask = (nomes == 'Bob') | (nomes == 'Will')\n",
    "print(mask,'\\n')\n",
    "print(dados[mask],'\\n')\n",
    "\n",
    "#é possível alterar os valores dos dados de acordo com a mascara\n",
    "dados[nomes != 'Joe'] = 0  #zera as linhas\n",
    "print(dados,'\\n')"
   ]
  },
  {
   "cell_type": "code",
   "execution_count": 113,
   "metadata": {},
   "outputs": [
    {
     "name": "stdout",
     "output_type": "stream",
     "text": [
      "[[-1231.40984661  2926.37867055  2578.93309158  -670.50123324]\n",
      " [-1288.8239725     84.79945766   -16.5961802    365.21011534]\n",
      " [  520.03597455  1428.38976942  -464.85324424  -687.29386584]\n",
      " [ 2177.65589635   497.29181678 -1835.28625278  -541.33157936]\n",
      " [ -645.44671863    56.12334736  -352.36181841   739.07893948]\n",
      " [  144.80745336 -2055.25131473   391.35470106  -910.22173816]\n",
      " [  277.06648303   823.51655284  1908.01792244    58.84859895]]\n",
      "[[ True False False  True]\n",
      " [ True False  True False]\n",
      " [False False  True  True]\n",
      " [False False  True  True]\n",
      " [ True False  True False]\n",
      " [False  True False  True]\n",
      " [False False False False]]\n",
      "[[   0.         2926.37867055 2578.93309158    0.        ]\n",
      " [   0.           84.79945766    0.          365.21011534]\n",
      " [ 520.03597455 1428.38976942    0.            0.        ]\n",
      " [2177.65589635  497.29181678    0.            0.        ]\n",
      " [   0.           56.12334736    0.          739.07893948]\n",
      " [ 144.80745336    0.          391.35470106    0.        ]\n",
      " [ 277.06648303  823.51655284 1908.01792244   58.84859895]]\n"
     ]
    }
   ],
   "source": [
    "#alterando valores\n",
    "\n",
    "dados = np.random.randn(7,4) * 1000   #7 linhas e 4 colunas -- multipliquei por 1000 para nao exibir em notação científica\n",
    "print(dados)\n",
    "\n",
    "#zerar todos os negativos\n",
    "mask1 = dados < 0\n",
    "print(mask1)\n",
    "dados[mask1] = 0\n",
    "print(dados)"
   ]
  },
  {
   "cell_type": "code",
   "execution_count": 127,
   "metadata": {},
   "outputs": [
    {
     "name": "stdout",
     "output_type": "stream",
     "text": [
      "[[0. 0. 0. 0.]\n",
      " [1. 1. 1. 1.]\n",
      " [2. 2. 2. 2.]\n",
      " [3. 3. 3. 3.]\n",
      " [4. 4. 4. 4.]\n",
      " [5. 5. 5. 5.]\n",
      " [6. 6. 6. 6.]\n",
      " [7. 7. 7. 7.]]\n",
      "[[0. 0. 0. 0.]\n",
      " [1. 1. 1. 1.]\n",
      " [2. 2. 2. 2.]\n",
      " [3. 3. 3. 3.]\n",
      " [4. 4. 4. 4.]\n",
      " [5. 5. 5. 5.]\n",
      " [6. 6. 6. 6.]\n",
      " [7. 7. 7. 7.]]\n",
      "\n"
     ]
    },
    {
     "data": {
      "text/plain": [
       "array([[4., 4., 4., 4.],\n",
       "       [5., 5., 5., 5.],\n",
       "       [7., 7., 7., 7.],\n",
       "       [1., 1., 1., 1.],\n",
       "       [0., 0., 0., 0.]])"
      ]
     },
     "execution_count": 127,
     "metadata": {},
     "output_type": "execute_result"
    }
   ],
   "source": [
    "#para indicar linhas ou colunas específicas, é possível passar uma lista ou um array\n",
    "arr = np.empty((8,4))\n",
    "print(arr)\n",
    "for i in range(8):\n",
    "    arr[i] = i\n",
    "    \n",
    "print(arr)    \n",
    "\n",
    "print()\n",
    "\n",
    "arr[ [4, 3, 0] ] #seleciona linhas específicas e em qualquer ordem\n",
    "\n",
    "arr[ [-4, -3, -1, -7, -8] ] #seleciona linhas específicas a partir do final e em qualquer ordem\n",
    "\n"
   ]
  },
  {
   "cell_type": "code",
   "execution_count": 145,
   "metadata": {},
   "outputs": [
    {
     "name": "stdout",
     "output_type": "stream",
     "text": [
      "[ 0  1  2  3  4  5  6  7  8  9 10 11 12 13 14 15 16 17 18 19 20 21 22 23\n",
      " 24 25 26 27 28 29 30 31] \n",
      "\n",
      "[[ 0  1  2  3]\n",
      " [ 4  5  6  7]\n",
      " [ 8  9 10 11]\n",
      " [12 13 14 15]\n",
      " [16 17 18 19]\n",
      " [20 21 22 23]\n",
      " [24 25 26 27]\n",
      " [28 29 30 31]] \n",
      "\n",
      "[[12 13 14 15]\n",
      " [ 0  1  2  3]\n",
      " [16 17 18 19]] \n",
      "\n",
      "[12  0 16] \n",
      "\n",
      "[12  3 17] \n",
      "\n",
      "[[12 15 13]\n",
      " [ 0  3  1]\n",
      " [16 19 17]]\n"
     ]
    }
   ],
   "source": [
    "arr2 = np.arange(32)\n",
    "print(arr2,'\\n')\n",
    "arr2d = arr2.reshape(8, 4) #redimensiona o array para 8 linhas e 4 colunas\n",
    "print(arr2d,'\\n')\n",
    "print(arr2d[ [3, 0, 4] ], '\\n') #seleciona as linhas específicas\n",
    "print(arr2d[ [3, 0, 4], [0] ], '\\n') #seleciona as linhas específicas e a coluna 0\n",
    "print(arr2d[ [3, 0, 4], [0, 3, 1] ], '\\n') #seleciona elementos pela combinação de linha e coluna indicados nas listas\n",
    "\n",
    "print(arr2d[ [3, 0, 4] ][:,[0,3,1]] ) #seleciona colunas a partir da seleção de linhas retornadas"
   ]
  }
 ],
 "metadata": {
  "kernelspec": {
   "display_name": "Python 3",
   "language": "python",
   "name": "python3"
  },
  "language_info": {
   "codemirror_mode": {
    "name": "ipython",
    "version": 3
   },
   "file_extension": ".py",
   "mimetype": "text/x-python",
   "name": "python",
   "nbconvert_exporter": "python",
   "pygments_lexer": "ipython3",
   "version": "3.7.4"
  }
 },
 "nbformat": 4,
 "nbformat_minor": 2
}

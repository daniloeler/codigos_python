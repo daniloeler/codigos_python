{
 "cells": [
  {
   "cell_type": "code",
   "execution_count": 1,
   "metadata": {},
   "outputs": [],
   "source": [
    "import numpy as np"
   ]
  },
  {
   "cell_type": "code",
   "execution_count": 3,
   "metadata": {},
   "outputs": [
    {
     "data": {
      "text/plain": [
       "array([[0.96616688, 0.86137434, 0.15266367],\n",
       "       [0.54113677, 0.84450414, 0.58860962]])"
      ]
     },
     "execution_count": 3,
     "metadata": {},
     "output_type": "execute_result"
    }
   ],
   "source": [
    "#Dados aleatórios\n",
    "data = np.random.rand(2,3) #linha, coluna\n",
    "data"
   ]
  },
  {
   "cell_type": "code",
   "execution_count": 8,
   "metadata": {},
   "outputs": [
    {
     "data": {
      "text/plain": [
       "array([0.72991491, 0.20167184, 0.09177742, 0.81438281, 0.00967705,\n",
       "       0.9685156 , 0.77745749, 0.39292868, 0.26805156, 0.35216387,\n",
       "       0.17086987, 0.52047091, 0.29920981, 0.21343957, 0.09022963,\n",
       "       0.32493667, 0.09264069, 0.52498538, 0.49010553, 0.79233356,\n",
       "       0.09577239, 0.41337369, 0.46687066])"
      ]
     },
     "execution_count": 8,
     "metadata": {},
     "output_type": "execute_result"
    }
   ],
   "source": [
    "data = np.random.rand(23) # uma linha, X colunas\n",
    "data"
   ]
  },
  {
   "cell_type": "code",
   "execution_count": 35,
   "metadata": {},
   "outputs": [
    {
     "name": "stdout",
     "output_type": "stream",
     "text": [
      "[[0.57599189 0.38804027 0.85919069]\n",
      " [0.74776177 0.92112759 0.59642709]]\n",
      "[[1.15198377 0.77608054 1.71838138]\n",
      " [1.49552353 1.84225517 1.19285418]]\n"
     ]
    }
   ],
   "source": [
    "data = np.random.rand(2,3)\n",
    "print(data)\n",
    "#operações matemáticas\n",
    "print(data + data) "
   ]
  },
  {
   "cell_type": "code",
   "execution_count": 37,
   "metadata": {},
   "outputs": [
    {
     "name": "stdout",
     "output_type": "stream",
     "text": [
      "(2, 3)\n",
      "#linhas:  2  #colunas:  3\n",
      "float64\n",
      "<class 'numpy.ndarray'>\n"
     ]
    }
   ],
   "source": [
    "#tamanho e tipo de dado\n",
    "print(data.shape) #dimensões\n",
    "lin,col = data.shape\n",
    "print('#linhas: ',lin,\" #colunas: \",col)\n",
    "print(data.dtype)\n",
    "print(type(data)) #numpy array"
   ]
  },
  {
   "cell_type": "code",
   "execution_count": 59,
   "metadata": {},
   "outputs": [
    {
     "name": "stdout",
     "output_type": "stream",
     "text": [
      "[1, 3, 4, 5.6, 3.6]\n",
      "<class 'list'>\n",
      "[1.  3.  4.  5.6 3.6]\n",
      "<class 'numpy.ndarray'>\n",
      "float64\n",
      "exemplo com caractere/string\n",
      "[1, 3, 4, 5.6, 3.6, 'a']\n",
      "<class 'list'>\n",
      "['1' '3' '4' '5.6' '3.6' 'a']\n",
      "<U32\n"
     ]
    }
   ],
   "source": [
    "#criando arrays\n",
    "data2 = [1, 3, 4, 5.6, 3.6]\n",
    "print(data2)\n",
    "print(type(data2)) #list\n",
    "arr1 = np.array(data2)\n",
    "print(arr1)\n",
    "print(type(arr1)) #numpy array --- os dados possuem o mesmo tipo\n",
    "print(arr1.dtype)\n",
    "print('exemplo com caractere/string')\n",
    "data2 = [1, 3, 4, 5.6, 3.6, 'a']\n",
    "print(data2)\n",
    "print(type(data2)) #list\n",
    "arr1 = np.array(data2)\n",
    "print(arr1) #numpy array --- os dados possuem o mesmo tipo\n",
    "print(arr1.dtype) #unicode 32"
   ]
  },
  {
   "cell_type": "code",
   "execution_count": 113,
   "metadata": {},
   "outputs": [
    {
     "name": "stdout",
     "output_type": "stream",
     "text": [
      "[1. 2. 3.]\n",
      "float64\n",
      "[1 2 3]\n",
      "int32\n",
      "['1' '2' '3']\n",
      "<U1\n",
      "[1 2 3]\n",
      "int32\n",
      "[1. 2. 3.]\n",
      "float64\n",
      "['1.0' '2.0' '3.0']\n",
      "<U32\n",
      "[1. 2. 3.]\n",
      "float64\n",
      "[1.9 2.8 3.7 4.6 5.5 6.4 0.3]\n",
      "float64\n",
      "[1 2 3 4 5 6 0]\n",
      "int32\n"
     ]
    }
   ],
   "source": [
    "#criação com tipos definidos\n",
    "print(np.array([1,2,3], dtype=np.float64))\n",
    "print(np.array([1,2,3], dtype=np.float64).dtype)\n",
    "print(np.array([1,2,3], dtype=np.int32))\n",
    "print(np.array([1,2,3], dtype=np.int32).dtype)\n",
    "print(np.array([1,2,3], dtype=np.unicode_))\n",
    "print(np.array([1,2,3], dtype=np.unicode_).dtype)\n",
    "\n",
    "#conversão de tipos - note que pode ser utilizado o dtype de outro array para fazer as conversões\n",
    "arr = np.array([1,2,3])\n",
    "print(arr)\n",
    "print(arr.dtype)\n",
    "arr = arr.astype(np.float64)\n",
    "print(arr)\n",
    "print(arr.dtype)\n",
    "arr = arr.astype(np.unicode_) #convertendo de float para string\n",
    "print(arr)\n",
    "print(arr.dtype)\n",
    "\n",
    "arr = arr.astype(np.float64) #convertendo de string (unicode) para float\n",
    "print(arr)\n",
    "print(arr.dtype)\n",
    "arr = np.array([1.9,2.8,3.7,4.6,5.5,6.4,0.3])\n",
    "print(arr)\n",
    "print(arr.dtype)\n",
    "arr = arr.astype(np.int32) #obtem somente a parte inteira\n",
    "print(arr)\n",
    "print(arr.dtype)   \n"
   ]
  },
  {
   "cell_type": "code",
   "execution_count": 54,
   "metadata": {},
   "outputs": [
    {
     "name": "stdout",
     "output_type": "stream",
     "text": [
      "[[1, 2, 3], [4, 5, 6]]\n",
      "[[1 2 3]\n",
      " [4 5 6]]\n",
      "#dimensoes:  2\n"
     ]
    }
   ],
   "source": [
    "data2 = [[1,2,3], [4,5,6]]\n",
    "print(data2) #list\n",
    "arr2 = np.array(data2)\n",
    "print(arr2) #numpy array\n",
    "print('#dimensoes: ',arr2.ndim)"
   ]
  },
  {
   "cell_type": "code",
   "execution_count": 94,
   "metadata": {},
   "outputs": [
    {
     "name": "stdout",
     "output_type": "stream",
     "text": [
      "[0. 0. 0. 0. 0. 0. 0. 0. 0. 0.]\n",
      "\n",
      "[1. 1. 1. 1. 1. 1. 1. 1. 1. 1.]\n",
      "\n",
      "[[0. 0. 0.]\n",
      " [0. 0. 0.]]\n",
      "\n",
      "[[1. 1. 1.]\n",
      " [1. 1. 1.]]\n",
      "\n",
      "[[1.16403662e-311 7.26276499e-322 0.00000000e+000 0.00000000e+000\n",
      "  0.00000000e+000]\n",
      " [1.16096346e-028 1.04857803e-142 1.16467185e-028 1.12576162e-153\n",
      "  3.24249977e-086]\n",
      " [6.98684252e-077 7.18988932e+140 3.44357625e-086 4.57890143e-072\n",
      "  1.12590729e-153]\n",
      " [3.44357625e-086 1.12579529e-153 4.10113497e+223 1.12576162e-153\n",
      "  1.21691794e+132]\n",
      " [3.44357625e-086 1.12594083e-153 8.53715287e+136 4.05174047e-317\n",
      "  0.00000000e+000]]\n",
      "\n",
      "[0 1 2 3 4 5 6 7 8 9]\n",
      "[5 6 7 8 9]\n",
      "[1. 1. 1. 1. 1. 1. 1. 1. 1. 1.]\n",
      "['1' '2' '4' 'asdf']\n",
      "['1' '1' '1' '1']\n",
      "[[10 10]\n",
      " [10 10]]\n",
      "[['10' '10']\n",
      " ['10' '10']]\n",
      "['15' '15' '15' '15']\n"
     ]
    }
   ],
   "source": [
    "#inicializando arrays\n",
    "z = np.zeros(10)\n",
    "print(z)\n",
    "print()\n",
    "print(z+1)\n",
    "print()\n",
    "z2 = np.zeros((2,3)) #passa-se uma tupla\n",
    "print(z2)\n",
    "print()\n",
    "print(z2+1)\n",
    "print()\n",
    "z3 = np.empty((5,5))  #array vazio sem inicalizar a área de memória\n",
    "print(z3)\n",
    "print()\n",
    "z4 = np.arange(10) #variação do range\n",
    "print(z4)\n",
    "z4 = np.arange(5,10)\n",
    "print(z4)\n",
    "z5 = np.ones(10)\n",
    "print(z5)\n",
    "a = np.array(['1','2','4','asdf'])\n",
    "z6 = np.ones_like(a) #cria um array com o mesma dimensão e formato do array passado pelo parametro -- tambem há o zeros_like\n",
    "print(a)\n",
    "print(z6)\n",
    "#preencher com valor específico\n",
    "print(np.full((2, 2), 10))\n",
    "print(np.full((2, 2), '10'))\n",
    "print(np.full_like(a, 15)) #também existe o full_like"
   ]
  },
  {
   "cell_type": "code",
   "execution_count": 84,
   "metadata": {},
   "outputs": [
    {
     "name": "stdout",
     "output_type": "stream",
     "text": [
      "[1 2 3 4 5]\n",
      "<class 'numpy.ndarray'>\n",
      "[1 2 3 4 5]\n",
      "<class 'numpy.ndarray'>\n"
     ]
    }
   ],
   "source": [
    "#conversão\n",
    "print(np.array((1,2,3,4,5))) #tupla\n",
    "print(type(np.array((1,2,3,4,5)))) #tupla\n",
    "print(np.array([1,2,3,4,5])) #lista\n",
    "print(type(np.array([1,2,3,4,5]))) #lista"
   ]
  },
  {
   "cell_type": "code",
   "execution_count": 116,
   "metadata": {},
   "outputs": [
    {
     "name": "stdout",
     "output_type": "stream",
     "text": [
      "[5 6 7 8 9]\n",
      "[5.  5.5 6.  6.5 7.  7.5 8.  8.5 9.  9.5]\n",
      "[5.   5.01 5.02 5.03 5.04 5.05 5.06 5.07 5.08 5.09 5.1  5.11 5.12 5.13\n",
      " 5.14 5.15 5.16 5.17 5.18 5.19 5.2  5.21 5.22 5.23 5.24 5.25 5.26 5.27\n",
      " 5.28 5.29 5.3  5.31 5.32 5.33 5.34 5.35 5.36 5.37 5.38 5.39 5.4  5.41\n",
      " 5.42 5.43 5.44 5.45 5.46 5.47 5.48 5.49 5.5  5.51 5.52 5.53 5.54 5.55\n",
      " 5.56 5.57 5.58 5.59 5.6  5.61 5.62 5.63 5.64 5.65 5.66 5.67 5.68 5.69\n",
      " 5.7  5.71 5.72 5.73 5.74 5.75 5.76 5.77 5.78 5.79 5.8  5.81 5.82 5.83\n",
      " 5.84 5.85 5.86 5.87 5.88 5.89 5.9  5.91 5.92 5.93 5.94 5.95 5.96 5.97\n",
      " 5.98 5.99 6.   6.01 6.02 6.03 6.04 6.05 6.06 6.07 6.08 6.09 6.1  6.11\n",
      " 6.12 6.13 6.14 6.15 6.16 6.17 6.18 6.19 6.2  6.21 6.22 6.23 6.24 6.25\n",
      " 6.26 6.27 6.28 6.29 6.3  6.31 6.32 6.33 6.34 6.35 6.36 6.37 6.38 6.39\n",
      " 6.4  6.41 6.42 6.43 6.44 6.45 6.46 6.47 6.48 6.49 6.5  6.51 6.52 6.53\n",
      " 6.54 6.55 6.56 6.57 6.58 6.59 6.6  6.61 6.62 6.63 6.64 6.65 6.66 6.67\n",
      " 6.68 6.69 6.7  6.71 6.72 6.73 6.74 6.75 6.76 6.77 6.78 6.79 6.8  6.81\n",
      " 6.82 6.83 6.84 6.85 6.86 6.87 6.88 6.89 6.9  6.91 6.92 6.93 6.94 6.95\n",
      " 6.96 6.97 6.98 6.99 7.   7.01 7.02 7.03 7.04 7.05 7.06 7.07 7.08 7.09\n",
      " 7.1  7.11 7.12 7.13 7.14 7.15 7.16 7.17 7.18 7.19 7.2  7.21 7.22 7.23\n",
      " 7.24 7.25 7.26 7.27 7.28 7.29 7.3  7.31 7.32 7.33 7.34 7.35 7.36 7.37\n",
      " 7.38 7.39 7.4  7.41 7.42 7.43 7.44 7.45 7.46 7.47 7.48 7.49 7.5  7.51\n",
      " 7.52 7.53 7.54 7.55 7.56 7.57 7.58 7.59 7.6  7.61 7.62 7.63 7.64 7.65\n",
      " 7.66 7.67 7.68 7.69 7.7  7.71 7.72 7.73 7.74 7.75 7.76 7.77 7.78 7.79\n",
      " 7.8  7.81 7.82 7.83 7.84 7.85 7.86 7.87 7.88 7.89 7.9  7.91 7.92 7.93\n",
      " 7.94 7.95 7.96 7.97 7.98 7.99 8.   8.01 8.02 8.03 8.04 8.05 8.06 8.07\n",
      " 8.08 8.09 8.1  8.11 8.12 8.13 8.14 8.15 8.16 8.17 8.18 8.19 8.2  8.21\n",
      " 8.22 8.23 8.24 8.25 8.26 8.27 8.28 8.29 8.3  8.31 8.32 8.33 8.34 8.35\n",
      " 8.36 8.37 8.38 8.39 8.4  8.41 8.42 8.43 8.44 8.45 8.46 8.47 8.48 8.49\n",
      " 8.5  8.51 8.52 8.53 8.54 8.55 8.56 8.57 8.58 8.59 8.6  8.61 8.62 8.63\n",
      " 8.64 8.65 8.66 8.67 8.68 8.69 8.7  8.71 8.72 8.73 8.74 8.75 8.76 8.77\n",
      " 8.78 8.79 8.8  8.81 8.82 8.83 8.84 8.85 8.86 8.87 8.88 8.89 8.9  8.91\n",
      " 8.92 8.93 8.94 8.95 8.96 8.97 8.98 8.99 9.   9.01 9.02 9.03 9.04 9.05\n",
      " 9.06 9.07 9.08 9.09 9.1  9.11 9.12 9.13 9.14 9.15 9.16 9.17 9.18 9.19\n",
      " 9.2  9.21 9.22 9.23 9.24 9.25 9.26 9.27 9.28 9.29 9.3  9.31 9.32 9.33\n",
      " 9.34 9.35 9.36 9.37 9.38 9.39 9.4  9.41 9.42 9.43 9.44 9.45 9.46 9.47\n",
      " 9.48 9.49 9.5  9.51 9.52 9.53 9.54 9.55 9.56 9.57 9.58 9.59 9.6  9.61\n",
      " 9.62 9.63 9.64 9.65 9.66 9.67 9.68 9.69 9.7  9.71 9.72 9.73 9.74 9.75\n",
      " 9.76 9.77 9.78 9.79 9.8  9.81 9.82 9.83 9.84 9.85 9.86 9.87 9.88 9.89\n",
      " 9.9  9.91 9.92 9.93 9.94 9.95 9.96 9.97 9.98 9.99]\n"
     ]
    }
   ],
   "source": [
    "#arange\n",
    "print(np.arange(5,10,1))\n",
    "print(np.arange(5,10,0.5))\n",
    "print(np.arange(5,10,0.01))"
   ]
  },
  {
   "cell_type": "code",
   "execution_count": null,
   "metadata": {},
   "outputs": [],
   "source": []
  }
 ],
 "metadata": {
  "kernelspec": {
   "display_name": "Python 3",
   "language": "python",
   "name": "python3"
  },
  "language_info": {
   "codemirror_mode": {
    "name": "ipython",
    "version": 3
   },
   "file_extension": ".py",
   "mimetype": "text/x-python",
   "name": "python",
   "nbconvert_exporter": "python",
   "pygments_lexer": "ipython3",
   "version": "3.7.4"
  }
 },
 "nbformat": 4,
 "nbformat_minor": 2
}

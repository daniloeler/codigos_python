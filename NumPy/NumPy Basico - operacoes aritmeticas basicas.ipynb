{
 "cells": [
  {
   "cell_type": "code",
   "execution_count": 1,
   "metadata": {},
   "outputs": [],
   "source": [
    "import numpy as np"
   ]
  },
  {
   "cell_type": "code",
   "execution_count": 25,
   "metadata": {},
   "outputs": [
    {
     "name": "stdout",
     "output_type": "stream",
     "text": [
      "[[1 2 3]\n",
      " [4 5 6]]\n",
      "[[10 20 30]\n",
      " [40 50 60]]\n"
     ]
    }
   ],
   "source": [
    "arr = np.array([[1, 2, 3], [4 ,5 ,6]])\n",
    "print(arr)\n",
    "arr2 = np.array([[10, 20, 30], [40 ,50 ,60]])\n",
    "print(arr2)"
   ]
  },
  {
   "cell_type": "code",
   "execution_count": 29,
   "metadata": {},
   "outputs": [
    {
     "name": "stdout",
     "output_type": "stream",
     "text": [
      "[[0 1 2]\n",
      " [3 4 5]] \n",
      "\n",
      "[[0 0 0]\n",
      " [0 0 0]] \n",
      "\n",
      "[[ -9 -18 -27]\n",
      " [-36 -45 -54]] \n",
      "\n",
      "[[ 9 18 27]\n",
      " [36 45 54]] \n",
      "\n",
      "[[ 2  4  6]\n",
      " [ 8 10 12]] \n",
      "\n",
      "[[ 1  4  9]\n",
      " [16 25 36]] \n",
      "\n",
      "[[ 10  40  90]\n",
      " [160 250 360]] \n",
      "\n",
      "[[ 1  4  9]\n",
      " [16 25 36]] \n",
      "\n",
      "[[1.         1.41421356 1.73205081]\n",
      " [2.         2.23606798 2.44948974]] \n",
      "\n",
      "[[False False False]\n",
      " [False False False]] \n",
      "\n",
      "[[ True  True  True]\n",
      " [ True  True  True]] \n",
      "\n",
      "[[ True False  True]\n",
      " [False  True False]] \n",
      "\n",
      "[[False False False]\n",
      " [ True False False]] \n",
      "\n",
      "[[False  True False]\n",
      " [ True  True  True]]\n"
     ]
    }
   ],
   "source": [
    "#operações aritméticas\n",
    "print(arr - 1, '\\n')\n",
    "print(arr -  arr, '\\n')\n",
    "print(arr -  arr2, '\\n')\n",
    "print(arr2 -  arr, '\\n')\n",
    "\n",
    "print(arr * 2, '\\n')\n",
    "print(arr * arr, '\\n')\n",
    "print(arr * arr2, '\\n')\n",
    "\n",
    "print(arr ** 2, '\\n')\n",
    "print(arr ** 0.5, '\\n')\n",
    "\n",
    "#operações booleanas resultam em True ou False\n",
    "print (arr > arr2, '\\n')\n",
    "print (arr2 > arr, '\\n')\n",
    "arr3 = np.array([[1, 20, 3], [140 , 25 ,60]])\n",
    "print(arr2 > arr3, '\\n')\n",
    "print(arr3 > arr2, '\\n')\n",
    "\n",
    "print(arr3 > 18)"
   ]
  },
  {
   "cell_type": "code",
   "execution_count": 43,
   "metadata": {},
   "outputs": [
    {
     "name": "stdout",
     "output_type": "stream",
     "text": [
      "[[ 0  1  2  3  4]\n",
      " [ 5  6  7  8  9]\n",
      " [10 11 12 13 14]] \n",
      "\n",
      "[[ 0  5 10]\n",
      " [ 1  6 11]\n",
      " [ 2  7 12]\n",
      " [ 3  8 13]\n",
      " [ 4  9 14]] \n",
      "\n",
      "\n",
      "\n",
      " Produto Interno \n",
      "\n",
      "\n",
      "[[ 0.26825098 -1.02858412 -0.084746  ]\n",
      " [-0.42553423 -0.40831214 -1.01078908]\n",
      " [-0.07920692 -2.61026289 -1.2307746 ]\n",
      " [-2.34222253 -0.93004973 -0.22889962]\n",
      " [-1.12212623 -1.11205021 -1.1219145 ]\n",
      " [ 0.59387157 -0.23955785  0.86428588]] \n",
      "\n",
      "[[ 0.26825098 -0.42553423 -0.07920692 -2.34222253 -1.12212623  0.59387157]\n",
      " [-1.02858412 -0.40831214 -2.61026289 -0.93004973 -1.11205021 -0.23955785]\n",
      " [-0.084746   -1.01078908 -1.2307746  -0.22889962 -1.1219145   0.86428588]] \n",
      "\n",
      "[[ 1.13712577  0.39149374  2.76793085  0.34772921  0.93790349  0.33246726]\n",
      " [ 0.39149374  1.36949274  2.34356081  1.60781569  2.06558565 -1.02850903]\n",
      " [ 2.76793085  2.34356081  8.33455223  2.89491836  4.37244744 -0.48547089]\n",
      " [ 0.34772921  1.60781569  2.89491836  6.4033939   3.91933713 -1.36601338]\n",
      " [ 0.93790349  2.06558565  4.37244744  3.91933713  3.75451509 -1.36965338]\n",
      " [ 0.33246726 -1.02850903 -0.48547089 -1.36601338 -1.36965338  1.15706149]]\n"
     ]
    }
   ],
   "source": [
    "#transposição\n",
    "arr4 = np.arange(15).reshape((3,5))\n",
    "print(arr4,'\\n')\n",
    "print(arr4.T,'\\n')\n",
    "\n",
    "print('\\n\\n Produto Interno \\n\\n')\n",
    "arr5 = np.random.randn(6,3)\n",
    "print(arr5,'\\n')\n",
    "print(arr5.T,'\\n')\n",
    "\n",
    "arr6 = np.dot(arr5, arr5.T)\n",
    "print(arr6)"
   ]
  }
 ],
 "metadata": {
  "kernelspec": {
   "display_name": "Python 3",
   "language": "python",
   "name": "python3"
  },
  "language_info": {
   "codemirror_mode": {
    "name": "ipython",
    "version": 3
   },
   "file_extension": ".py",
   "mimetype": "text/x-python",
   "name": "python",
   "nbconvert_exporter": "python",
   "pygments_lexer": "ipython3",
   "version": "3.7.4"
  }
 },
 "nbformat": 4,
 "nbformat_minor": 2
}
